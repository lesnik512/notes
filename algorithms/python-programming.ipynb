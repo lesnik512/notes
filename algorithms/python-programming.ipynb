{
 "cells": [
  {
   "cell_type": "markdown",
   "metadata": {},
   "source": [
    "Выведите таблицу размером n×n, заполненную числами от 1 до n2 по спирали, выходящей из левого верхнего угла и закрученной по часовой стрелке, как показано в примере (здесь n=5):"
   ]
  },
  {
   "cell_type": "code",
   "execution_count": 11,
   "metadata": {},
   "outputs": [
    {
     "name": "stdout",
     "output_type": "stream",
     "text": [
      "5\n",
      "1 2 3 4 5 \n",
      "16 17 18 19 6 \n",
      "15 24 25 20 7 \n",
      "14 23 22 21 8 \n",
      "13 12 11 10 9 \n"
     ]
    }
   ],
   "source": [
    "n = int(input())\n",
    "dx, dy = 1, 0           \n",
    "x, y = 0, 0              \n",
    "myarray = [[None]* n for j in range(n)]\n",
    "for i in range(1,n**2 + 1):\n",
    "    myarray[x][y] = i\n",
    "    nx, ny = x+dx, y+dy\n",
    "    if 0<=nx<n and 0<=ny<n and myarray[nx][ny] == None:\n",
    "        x,y = nx,ny\n",
    "    else:\n",
    "        dx,dy = -dy,dx\n",
    "        x,y = x+dx, y+dy\n",
    " \n",
    "n = range(len(myarray))\n",
    "for y in n:\n",
    "    for x in n:\n",
    "        print (myarray[x][y],end=' ')\n",
    "    print()"
   ]
  },
  {
   "cell_type": "code",
   "execution_count": null,
   "metadata": {},
   "outputs": [],
   "source": []
  }
 ],
 "metadata": {
  "kernelspec": {
   "display_name": "Python 3",
   "language": "python",
   "name": "python3"
  },
  "language_info": {
   "codemirror_mode": {
    "name": "ipython",
    "version": 3
   },
   "file_extension": ".py",
   "mimetype": "text/x-python",
   "name": "python",
   "nbconvert_exporter": "python",
   "pygments_lexer": "ipython3",
   "version": "3.7.3"
  }
 },
 "nbformat": 4,
 "nbformat_minor": 2
}
