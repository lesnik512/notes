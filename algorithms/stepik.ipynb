{
 "cells": [
  {
   "cell_type": "markdown",
   "metadata": {},
   "source": [
    "### Покрыть отрезки точками\n",
    "\n",
    "По данным n отрезкам необходимо найти множество точек минимального размера, для которого каждый из отрезков содержит хотя бы одну из точек.\n",
    "\n",
    "В первой строке дано число 1≤n≤100 отрезков. Каждая из последующих n строк содержит по два числа 0≤l≤r≤10^9, задающих начало и конец отрезка. Выведите оптимальное число m точек и сами m точек. Если таких множеств точек несколько, выведите любое из них."
   ]
  },
  {
   "cell_type": "code",
   "execution_count": 5,
   "metadata": {},
   "outputs": [
    {
     "name": "stdout",
     "output_type": "stream",
     "text": [
      "4\n",
      "1 3\n",
      "2 5\n",
      "3 6\n",
      "5 9\n"
     ]
    }
   ],
   "source": [
    "s = [[int(i) for i in input().split()] for j in range(int(input()))]"
   ]
  },
  {
   "cell_type": "code",
   "execution_count": 40,
   "metadata": {},
   "outputs": [],
   "source": [
    "s = [[1, 3], [2, 5], [3, 6]]\n",
    "s = [[1, 2], [3, 4], [0, 5]]\n",
    "s = [[4, 7], [1, 3], [2, 5], [5, 6], [6, 8], [3, 4]]"
   ]
  },
  {
   "cell_type": "code",
   "execution_count": 41,
   "metadata": {},
   "outputs": [
    {
     "name": "stdout",
     "output_type": "stream",
     "text": [
      "2\n",
      "3 6\n"
     ]
    }
   ],
   "source": [
    "s.sort(key=lambda x: x[1])\n",
    "points = []\n",
    "m = 0\n",
    "for x, y in s:\n",
    "    if x > m:\n",
    "        m = y\n",
    "        points.append(y)\n",
    "print(len(points))\n",
    "print(' '.join(str(x) for x in points))"
   ]
  },
  {
   "cell_type": "markdown",
   "metadata": {},
   "source": [
    "### Непрерывный рюкзак\n",
    "\n",
    "Первая строка содержит количество предметов 1≤n≤103 и вместимость рюкзака 0≤W≤2⋅10^6. Каждая из следующих n строк задаёт стоимость 0≤ci≤2⋅10^6 и объём 0<wi≤2⋅10^6 предмета (n, W, ci, wi — целые числа). Выведите максимальную стоимость частей предметов (от каждого предмета можно отделить любую часть, стоимость и объём при этом пропорционально уменьшатся), помещающихся в данный рюкзак, с точностью не менее трёх знаков после запятой."
   ]
  },
  {
   "cell_type": "code",
   "execution_count": 45,
   "metadata": {},
   "outputs": [
    {
     "name": "stdout",
     "output_type": "stream",
     "text": [
      "3 50\n",
      "60 20\n",
      "100 50\n",
      "120 30\n"
     ]
    }
   ],
   "source": [
    "n, w = [int(i) for i in input().split()]\n",
    "s = [[int(i) for i in input().split()] for j in range(n)]"
   ]
  },
  {
   "cell_type": "code",
   "execution_count": 66,
   "metadata": {},
   "outputs": [],
   "source": [
    "w = 50\n",
    "s = [[60, 20], [100, 50], [120, 30]]"
   ]
  },
  {
   "cell_type": "code",
   "execution_count": 67,
   "metadata": {},
   "outputs": [
    {
     "name": "stdout",
     "output_type": "stream",
     "text": [
      "180\n"
     ]
    }
   ],
   "source": [
    "s.sort(key=lambda x: x[0] / x[1], reverse=True)\n",
    "sum = 0\n",
    "for x in s:\n",
    "    if x[1] > w:\n",
    "        sum += w / x[1] * x[0]\n",
    "    elif x[1] == w:\n",
    "        sum += x[0]\n",
    "        break\n",
    "    else:\n",
    "        sum += x[0]\n",
    "        w -= x[1]\n",
    "print(sum)"
   ]
  },
  {
   "cell_type": "code",
   "execution_count": 52,
   "metadata": {},
   "outputs": [
    {
     "data": {
      "text/plain": [
       "[[120, 30], [60, 20], [100, 50]]"
      ]
     },
     "execution_count": 52,
     "metadata": {},
     "output_type": "execute_result"
    }
   ],
   "source": [
    "s"
   ]
  },
  {
   "cell_type": "code",
   "execution_count": null,
   "metadata": {},
   "outputs": [],
   "source": []
  }
 ],
 "metadata": {
  "kernelspec": {
   "display_name": "Python 3",
   "language": "python",
   "name": "python3"
  },
  "language_info": {
   "codemirror_mode": {
    "name": "ipython",
    "version": 3
   },
   "file_extension": ".py",
   "mimetype": "text/x-python",
   "name": "python",
   "nbconvert_exporter": "python",
   "pygments_lexer": "ipython3",
   "version": "3.6.5"
  }
 },
 "nbformat": 4,
 "nbformat_minor": 2
}
