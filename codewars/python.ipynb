{
 "cells": [
  {
   "cell_type": "markdown",
   "metadata": {},
   "source": [
    "1. Greed is a dice game played with five six-sided dice. Your mission, should you choose to accept it, is to score a throw according to these rules. You will always be given an array with five six-sided dice values.\n",
    "\n",
    "```\n",
    " Three 1's => 1000 points\n",
    " Three 6's =>  600 points\n",
    " Three 5's =>  500 points\n",
    " Three 4's =>  400 points\n",
    " Three 3's =>  300 points\n",
    " Three 2's =>  200 points\n",
    " One   1   =>  100 points\n",
    " One   5   =>   50 point\n",
    "```"
   ]
  },
  {
   "cell_type": "code",
   "execution_count": 8,
   "metadata": {},
   "outputs": [],
   "source": [
    "# 20:30 - 21:00\n",
    "from collections import defaultdict\n",
    "\n",
    "def score(dice):\n",
    "    d = defaultdict(int)\n",
    "    for i in dice:\n",
    "        d[i] += 1\n",
    "    \n",
    "    score = 0\n",
    "    for k, v in d.items():\n",
    "        if v >= 3:\n",
    "            d[k] -= 3\n",
    "            if k == 1:\n",
    "                score += 1000\n",
    "            else:\n",
    "                score += k * 100\n",
    "    score += d[1] * 100\n",
    "    score += d[5] * 50\n",
    "    return score\n",
    "    \n",
    "assert score([2, 3, 4, 6, 2]) == 0\n",
    "assert score([4, 4, 4, 3, 3]) == 400\n",
    "assert score([2, 4, 4, 5, 4]) == 450"
   ]
  },
  {
   "cell_type": "markdown",
   "metadata": {},
   "source": [
    "2. Complete the function scramble(str1, str2) that returns true if a portion of str1 characters can be rearranged to match str2, otherwise returns false.\n",
    "\n",
    "Only lower case letters will be used (a-z). No punctuation or digits will be included.\n",
    "Performance needs to be considered"
   ]
  },
  {
   "cell_type": "code",
   "execution_count": 7,
   "metadata": {},
   "outputs": [
    {
     "data": {
      "text/plain": [
       "(True, False)"
      ]
     },
     "execution_count": 7,
     "metadata": {},
     "output_type": "execute_result"
    }
   ],
   "source": [
    "from collections import defaultdict\n",
    "\n",
    "def scramble(s1, s2):\n",
    "    d = defaultdict(int)\n",
    "    for l in s1:\n",
    "        d[l] += 1\n",
    "    \n",
    "    for l in s2:\n",
    "        if l not in d:\n",
    "            return False\n",
    "        d[l] -= 1\n",
    "        if d[l] == 0:\n",
    "            del d[l]\n",
    "    return True\n",
    "\n",
    "scramble('rkqodlw', 'world'), scramble('katas', 'steak')"
   ]
  },
  {
   "cell_type": "markdown",
   "metadata": {},
   "source": [
    "2. Write an algorithm that will identify valid IPv4 addresses in dot-decimal format. IPs should be considered valid if they consist of four octets, with values between 0 and 255, inclusive.\n",
    "\n",
    "Input to the function is guaranteed to be a single string.\n",
    "\n",
    "Examples\n",
    "Valid inputs:\n",
    "\n",
    "- 1.2.3.4\n",
    "- 123.45.67.89\n",
    "\n",
    "Invalid inputs:\n",
    "\n",
    "- 1.2.3\n",
    "- 1.2.3.4.5\n",
    "- 123.456.78.90\n",
    "- 123.045.067.089\n",
    "\n",
    "Note that leading zeros (e.g. 01.02.03.04) are considered invalid."
   ]
  },
  {
   "cell_type": "code",
   "execution_count": 20,
   "metadata": {},
   "outputs": [
    {
     "data": {
      "text/plain": [
       "(True, False)"
      ]
     },
     "execution_count": 20,
     "metadata": {},
     "output_type": "execute_result"
    }
   ],
   "source": [
    "import re\n",
    "\n",
    "def is_valid_IP(string):\n",
    "    parts = string.split('.')\n",
    "    return len(parts) == 4 and all(re.match(r'^(0|[1-9][0-9]{0,2})$', s) and int(s) <= 255 for s in parts)\n",
    "\n",
    "is_valid_IP('12.255.56.1'), is_valid_IP('123.456.78.90')"
   ]
  },
  {
   "cell_type": "markdown",
   "metadata": {},
   "source": [
    "# The Hashtag Generator\n",
    "The marketing team is spending way too much time typing in hashtags.\n",
    "Let's help them with our own Hashtag Generator!\n",
    "\n",
    "Here's the deal:\n",
    "\n",
    "- It must start with a hashtag (#).\n",
    "- All words must have their first letter capitalized.\n",
    "- If the final result is longer than 140 chars it must return false.\n",
    "- If the input or the result is an empty string it must return false."
   ]
  },
  {
   "cell_type": "code",
   "execution_count": 4,
   "metadata": {},
   "outputs": [
    {
     "data": {
      "text/plain": [
       "'#CodewarAndCodepeace'"
      ]
     },
     "execution_count": 4,
     "metadata": {},
     "output_type": "execute_result"
    }
   ],
   "source": [
    "def generate_hashtag(s):\n",
    "    if not s or len(s) > 140:\n",
    "        return False\n",
    "    return '#' + s.title().replace(' ', '')\n",
    "\n",
    "generate_hashtag('codewar and codepeace')"
   ]
  },
  {
   "cell_type": "markdown",
   "metadata": {},
   "source": [
    "# Two Sum\n",
    "\n",
    "Write a function that takes an array of numbers (integers for the tests) and a target number. It should find two different items in the array that, when added together, give the target value. The indices of these items should then be returned in a tuple like so: (index1, index2).\n",
    "\n",
    "For the purposes of this kata, some tests may have multiple answers; any valid solutions will be accepted.\n",
    "\n",
    "The input will always be valid (numbers will be an array of length 2 or greater, and all of the items will be numbers; target will always be the sum of two different items from that array).\n",
    "\n",
    "Based on: http://oj.leetcode.com/problems/two-sum/"
   ]
  },
  {
   "cell_type": "code",
   "execution_count": 6,
   "metadata": {},
   "outputs": [],
   "source": [
    "def two_sum(numbers, target):\n",
    "    store = {}\n",
    "    for i, x in enumerate(numbers):\n",
    "        if x > target:\n",
    "            continue\n",
    "        if target - x in store:\n",
    "            return [i, store[target - x]]\n",
    "        store[x] = i\n",
    "\n",
    "assert sorted(two_sum([1,2,3], 4)) == [0,2]\n",
    "assert sorted(two_sum([1234,5678,9012], 14690)) == [1,2]\n",
    "assert sorted(two_sum([2,2,3], 4)) == [0,1]"
   ]
  },
  {
   "cell_type": "code",
   "execution_count": null,
   "metadata": {},
   "outputs": [],
   "source": []
  }
 ],
 "metadata": {
  "kernelspec": {
   "display_name": "Python 3",
   "language": "python",
   "name": "python3"
  },
  "language_info": {
   "codemirror_mode": {
    "name": "ipython",
    "version": 3
   },
   "file_extension": ".py",
   "mimetype": "text/x-python",
   "name": "python",
   "nbconvert_exporter": "python",
   "pygments_lexer": "ipython3",
   "version": "3.8.2"
  }
 },
 "nbformat": 4,
 "nbformat_minor": 4
}
