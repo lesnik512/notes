{
 "cells": [
  {
   "cell_type": "markdown",
   "metadata": {},
   "source": [
    "Greed is a dice game played with five six-sided dice. Your mission, should you choose to accept it, is to score a throw according to these rules. You will always be given an array with five six-sided dice values.\n",
    "\n",
    "```\n",
    " Three 1's => 1000 points\n",
    " Three 6's =>  600 points\n",
    " Three 5's =>  500 points\n",
    " Three 4's =>  400 points\n",
    " Three 3's =>  300 points\n",
    " Three 2's =>  200 points\n",
    " One   1   =>  100 points\n",
    " One   5   =>   50 point\n",
    "```"
   ]
  },
  {
   "cell_type": "code",
   "execution_count": 8,
   "metadata": {},
   "outputs": [],
   "source": [
    "# 20:30 - 21:00\n",
    "from collections import defaultdict\n",
    "\n",
    "def score(dice):\n",
    "    d = defaultdict(int)\n",
    "    for i in dice:\n",
    "        d[i] += 1\n",
    "    \n",
    "    score = 0\n",
    "    for k, v in d.items():\n",
    "        if v >= 3:\n",
    "            d[k] -= 3\n",
    "            if k == 1:\n",
    "                score += 1000\n",
    "            else:\n",
    "                score += k * 100\n",
    "    score += d[1] * 100\n",
    "    score += d[5] * 50\n",
    "    return score\n",
    "    \n",
    "assert score([2, 3, 4, 6, 2]) == 0\n",
    "assert score([4, 4, 4, 3, 3]) == 400\n",
    "assert score([2, 4, 4, 5, 4]) == 450"
   ]
  },
  {
   "cell_type": "code",
   "execution_count": null,
   "metadata": {},
   "outputs": [],
   "source": []
  }
 ],
 "metadata": {
  "kernelspec": {
   "display_name": "Python 3",
   "language": "python",
   "name": "python3"
  },
  "language_info": {
   "codemirror_mode": {
    "name": "ipython",
    "version": 3
   },
   "file_extension": ".py",
   "mimetype": "text/x-python",
   "name": "python",
   "nbconvert_exporter": "python",
   "pygments_lexer": "ipython3",
   "version": "3.8.2"
  }
 },
 "nbformat": 4,
 "nbformat_minor": 4
}
