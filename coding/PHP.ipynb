{
 "cells": [
  {
   "cell_type": "markdown",
   "metadata": {},
   "source": [
    "## \"Spaceship\" operator (PHP7)"
   ]
  },
  {
   "cell_type": "code",
   "execution_count": 17,
   "metadata": {},
   "outputs": [
    {
     "data": {
      "text/plain": [
       "[\n",
       "  [\n",
       "    \"\u001b[34mfoo\u001b[39m\" => \u001b[35m2.2\u001b[39m,\n",
       "    \"\u001b[34mbar\u001b[39m\" => \"\u001b[32mefg\u001b[39m\",\n",
       "  ],\n",
       "  [\n",
       "    \"\u001b[34mfoo\u001b[39m\" => \u001b[35m5.5\u001b[39m,\n",
       "    \"\u001b[34mbar\u001b[39m\" => \"\u001b[32mabc\u001b[39m\",\n",
       "  ],\n",
       "]"
      ]
     },
     "execution_count": 17,
     "metadata": {},
     "output_type": "execute_result"
    }
   ],
   "source": [
    "$things = [\n",
    "    ['foo' => 5.5, 'bar' => 'abc'],\n",
    "    ['foo' => 2.2, 'bar' => 'efg']\n",
    "];\n",
    "\n",
    "// Sort $things by 'foo' property, ascending (for descending switch $a and $b in body)\n",
    "usort($things, function ($a, $b) {return $a['foo'] <=> $b['foo'];});\n",
    "$things;"
   ]
  },
  {
   "cell_type": "markdown",
   "metadata": {},
   "source": [
    "##  Order of data in REQUEST:\n",
    "- GET\n",
    "- POST\n",
    "- COOKIE\n",
    "\n",
    "There is no arrays PUT and DELETE, but there are some hacks."
   ]
  },
  {
   "cell_type": "markdown",
   "metadata": {},
   "source": [
    "## Unpacking attributes of function"
   ]
  },
  {
   "cell_type": "code",
   "execution_count": 2,
   "metadata": {},
   "outputs": [
    {
     "data": {
      "text/plain": [
       "10\n"
      ]
     },
     "execution_count": 2,
     "metadata": {},
     "output_type": "execute_result"
    },
    {
     "data": {
      "text/plain": [
       "3\n"
      ]
     },
     "execution_count": 2,
     "metadata": {},
     "output_type": "execute_result"
    }
   ],
   "source": [
    "function sum(...$numbers) {\n",
    "    $acc = 0;\n",
    "    foreach ($numbers as $n) {\n",
    "        $acc += $n;\n",
    "    }\n",
    "    return $acc;\n",
    "}\n",
    "echo sum(1, 2, 3, 4);\n",
    "\n",
    "function add($a, $b) {\n",
    "    return $a + $b;\n",
    "}\n",
    "echo add(...[1, 2]);"
   ]
  },
  {
   "cell_type": "markdown",
   "metadata": {},
   "source": [
    "## Generators"
   ]
  },
  {
   "cell_type": "code",
   "execution_count": 3,
   "metadata": {},
   "outputs": [],
   "source": [
    "function collect($arr, $callback) {\n",
    "    foreach($arr as $value) {\n",
    "        yield $callback($value);\n",
    "    }\n",
    "}"
   ]
  },
  {
   "cell_type": "code",
   "execution_count": 5,
   "metadata": {},
   "outputs": [
    {
     "data": {
      "text/plain": [
       "1 \n"
      ]
     },
     "execution_count": 5,
     "metadata": {},
     "output_type": "execute_result"
    },
    {
     "data": {
      "text/plain": [
       "4 \n"
      ]
     },
     "execution_count": 5,
     "metadata": {},
     "output_type": "execute_result"
    },
    {
     "data": {
      "text/plain": [
       "9 \n"
      ]
     },
     "execution_count": 5,
     "metadata": {},
     "output_type": "execute_result"
    },
    {
     "data": {
      "text/plain": [
       "16 \n"
      ]
     },
     "execution_count": 5,
     "metadata": {},
     "output_type": "execute_result"
    },
    {
     "data": {
      "text/plain": [
       "25 \n"
      ]
     },
     "execution_count": 5,
     "metadata": {},
     "output_type": "execute_result"
    },
    {
     "data": {
      "text/plain": [
       "36 \n"
      ]
     },
     "execution_count": 5,
     "metadata": {},
     "output_type": "execute_result"
    }
   ],
   "source": [
    "$arr = [1, 2, 3, 4, 5, 6];\n",
    "$collect = collect($arr, function($e) { return $e * $e; });\n",
    "foreach($collect as $val) echo \"$val \";"
   ]
  },
  {
   "cell_type": "code",
   "execution_count": 7,
   "metadata": {},
   "outputs": [],
   "source": [
    "function select($arr, $callback) {\n",
    "    foreach($arr as $value)\n",
    "        if($callback($value)) yield $value;\n",
    "}"
   ]
  },
  {
   "cell_type": "code",
   "execution_count": 9,
   "metadata": {},
   "outputs": [
    {
     "data": {
      "text/plain": [
       "2 \n"
      ]
     },
     "execution_count": 9,
     "metadata": {},
     "output_type": "execute_result"
    },
    {
     "data": {
      "text/plain": [
       "4 \n"
      ]
     },
     "execution_count": 9,
     "metadata": {},
     "output_type": "execute_result"
    },
    {
     "data": {
      "text/plain": [
       "6 \n"
      ]
     },
     "execution_count": 9,
     "metadata": {},
     "output_type": "execute_result"
    }
   ],
   "source": [
    "$arr = [1, 2, 3, 4, 5, 6];\n",
    "$select = select($arr, function($e) { return $e % 2 == 0 ? true : false; });\n",
    "foreach($select as $val) echo \"$val \";"
   ]
  },
  {
   "cell_type": "code",
   "execution_count": 10,
   "metadata": {},
   "outputs": [
    {
     "data": {
      "text/plain": [
       "4 \n"
      ]
     },
     "execution_count": 10,
     "metadata": {},
     "output_type": "execute_result"
    },
    {
     "data": {
      "text/plain": [
       "16 \n"
      ]
     },
     "execution_count": 10,
     "metadata": {},
     "output_type": "execute_result"
    },
    {
     "data": {
      "text/plain": [
       "36 \n"
      ]
     },
     "execution_count": 10,
     "metadata": {},
     "output_type": "execute_result"
    }
   ],
   "source": [
    "$arr = [1, 2, 3, 4, 5, 6];\n",
    "$select = select($arr, function($e) { return $e % 2 == 0 ? true : false; });\n",
    "$collect = collect($select, function($e) { return $e * $e; });\n",
    "foreach($collect as $val) echo \"$val \";"
   ]
  },
  {
   "cell_type": "markdown",
   "metadata": {},
   "source": [
    "### Return value by reference"
   ]
  },
  {
   "cell_type": "code",
   "execution_count": 12,
   "metadata": {},
   "outputs": [],
   "source": [
    "function &reference() {\n",
    "    $value = 3;\n",
    "    while ($value > 0) {\n",
    "        yield $value;\n",
    "    }\n",
    "}"
   ]
  },
  {
   "cell_type": "code",
   "execution_count": 13,
   "metadata": {},
   "outputs": [
    {
     "data": {
      "text/plain": [
       "2 \n"
      ]
     },
     "execution_count": 13,
     "metadata": {},
     "output_type": "execute_result"
    },
    {
     "data": {
      "text/plain": [
       "1 \n"
      ]
     },
     "execution_count": 13,
     "metadata": {},
     "output_type": "execute_result"
    },
    {
     "data": {
      "text/plain": [
       "0 \n"
      ]
     },
     "execution_count": 13,
     "metadata": {},
     "output_type": "execute_result"
    }
   ],
   "source": [
    "foreach (reference() as &$number) {\n",
    "    echo (--$number).' ';\n",
    "}"
   ]
  },
  {
   "cell_type": "markdown",
   "metadata": {},
   "source": [
    "## Slices"
   ]
  },
  {
   "cell_type": "code",
   "execution_count": 2,
   "metadata": {},
   "outputs": [
    {
     "data": {
      "text/plain": [
       "Array\n",
       "(\n",
       "    [0] => 2\n",
       "    [1] => 3\n",
       "    [2] => 4\n",
       ")\n",
       "\n"
      ]
     },
     "execution_count": 2,
     "metadata": {},
     "output_type": "execute_result"
    },
    {
     "data": {
      "text/plain": [
       "Array\n",
       "(\n",
       "    [0] => 2\n",
       "    [1] => 3\n",
       ")\n",
       "\n"
      ]
     },
     "execution_count": 2,
     "metadata": {},
     "output_type": "execute_result"
    },
    {
     "data": {
      "text/plain": [
       "Array\n",
       "(\n",
       "    [0] => 3\n",
       ")\n",
       "\n"
      ]
     },
     "execution_count": 2,
     "metadata": {},
     "output_type": "execute_result"
    },
    {
     "data": {
      "text/plain": [
       "Array\n",
       "(\n",
       "    [0] => 0\n",
       "    [1] => 1\n",
       "    [2] => 2\n",
       ")\n",
       "\n"
      ]
     },
     "execution_count": 2,
     "metadata": {},
     "output_type": "execute_result"
    },
    {
     "data": {
      "text/plain": [
       "\u001b[36mtrue\u001b[39m"
      ]
     },
     "execution_count": 2,
     "metadata": {},
     "output_type": "execute_result"
    }
   ],
   "source": [
    "$input = [0, 1, 2, 3, 4];\n",
    "print_r(array_slice($input, 2));\n",
    "print_r(array_slice($input, 2, -1));\n",
    "print_r(array_slice($input, -2, 1));\n",
    "print_r(array_slice($input, 0, 3));"
   ]
  },
  {
   "cell_type": "code",
   "execution_count": null,
   "metadata": {},
   "outputs": [],
   "source": []
  }
 ],
 "metadata": {
  "kernelspec": {
   "display_name": "PHP",
   "language": "php",
   "name": "jupyter-php"
  },
  "language_info": {
   "file_extension": ".php",
   "mimetype": "text/x-php",
   "name": "PHP",
   "pygments_lexer": "PHP",
   "version": "7.2.19-0ubuntu0.19.04.1"
  }
 },
 "nbformat": 4,
 "nbformat_minor": 2
}
