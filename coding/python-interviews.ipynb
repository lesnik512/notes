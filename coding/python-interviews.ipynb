{
 "cells": [
  {
   "cell_type": "markdown",
   "metadata": {},
   "source": [
    "## Check if string is palindrome"
   ]
  },
  {
   "cell_type": "code",
   "execution_count": 1,
   "metadata": {},
   "outputs": [
    {
     "data": {
      "text/plain": [
       "True"
      ]
     },
     "execution_count": 1,
     "metadata": {},
     "output_type": "execute_result"
    }
   ],
   "source": [
    "def is_pal(w):\n",
    "    l = 0\n",
    "    r = len(w) - 1\n",
    "    while True:\n",
    "        if l >= r:\n",
    "            return True\n",
    "        if w[l] == ' ':\n",
    "            l += 1\n",
    "            continue\n",
    "        if w[r] == ' ':\n",
    "            r -= 1\n",
    "            continue\n",
    "        if w[l] != w[r]:\n",
    "            return False\n",
    "        l += 1\n",
    "        r -= 1\n",
    "    \n",
    "is_pal('m    ad am')"
   ]
  },
  {
   "cell_type": "markdown",
   "metadata": {},
   "source": [
    "## Sum of numbers as linked arrays"
   ]
  },
  {
   "cell_type": "code",
   "execution_count": 2,
   "metadata": {},
   "outputs": [],
   "source": [
    "class Node:\n",
    "    def __init__(self, value, next_=None):\n",
    "        self.value = value\n",
    "        self.next = next_\n",
    "\n",
    "    @classmethod\n",
    "    def from_int(cls, n):\n",
    "        value = n % 10\n",
    "        return cls(value, cls.from_int(n // 10) if n // 10 > 0 else None)\n",
    "        \n",
    "    def __str__(self):\n",
    "        return f'{str(self.next or \"\")}{self.value}'\n",
    "\n",
    "    def __add__(self, b):\n",
    "        return sum_lists(self, b)\n",
    "    \n",
    "def sum_lists(a: Node, b: Node, over = 0) -> Node:\n",
    "    value = a.value + b.value + over\n",
    "    if a.next is None and b.next is None:\n",
    "        return Node(value % 10, Node(1) if value > 9 else None)\n",
    "\n",
    "    next_ = sum_lists(a.next or Node(0), b.next or Node(0), value // 10)\n",
    "    return Node(value % 10, next_)"
   ]
  },
  {
   "cell_type": "code",
   "execution_count": 3,
   "metadata": {},
   "outputs": [
    {
     "name": "stdout",
     "output_type": "stream",
     "text": [
      "999991 + 9 = 1000000\n"
     ]
    }
   ],
   "source": [
    "a = Node.from_int(999991)\n",
    "b = Node.from_int(9)\n",
    "print(a,'+', b, '=', a + b)"
   ]
  },
  {
   "cell_type": "code",
   "execution_count": null,
   "metadata": {},
   "outputs": [],
   "source": []
  }
 ],
 "metadata": {
  "kernelspec": {
   "display_name": "Python 3",
   "language": "python",
   "name": "python3"
  },
  "language_info": {
   "codemirror_mode": {
    "name": "ipython",
    "version": 3
   },
   "file_extension": ".py",
   "mimetype": "text/x-python",
   "name": "python",
   "nbconvert_exporter": "python",
   "pygments_lexer": "ipython3",
   "version": "3.8.5"
  }
 },
 "nbformat": 4,
 "nbformat_minor": 4
}
