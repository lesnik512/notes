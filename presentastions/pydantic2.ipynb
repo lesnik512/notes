{
 "cells": [
  {
   "cell_type": "markdown",
   "id": "54dc667b-6b88-4d2f-a645-28d05a46da18",
   "metadata": {},
   "source": [
    "# Benchmarks: pydantic2 vs orjson"
   ]
  },
  {
   "cell_type": "code",
   "execution_count": 73,
   "id": "eaae2092-7176-40aa-bb43-6657c5a724b0",
   "metadata": {},
   "outputs": [
    {
     "name": "stdout",
     "output_type": "stream",
     "text": [
      "750 ns ± 1.91 ns per loop (mean ± std. dev. of 7 runs, 1,000,000 loops each)\n",
      "180 ns ± 0.524 ns per loop (mean ± std. dev. of 7 runs, 10,000,000 loops each)\n"
     ]
    }
   ],
   "source": [
    "import typing\n",
    "import pydantic\n",
    "import orjson\n",
    "\n",
    "adapter = pydantic.TypeAdapter(typing.Any)\n",
    "%timeit adapter.dump_json([{\"test\": \"test\"}, {\"test1\": True}])\n",
    "\n",
    "%timeit orjson.dumps([{\"test\": \"test\"}, {\"test1\": True}])"
   ]
  },
  {
   "cell_type": "code",
   "execution_count": 74,
   "id": "3374600f-c393-45f3-a110-0bb26b28f278",
   "metadata": {},
   "outputs": [
    {
     "name": "stdout",
     "output_type": "stream",
     "text": [
      "687 ns ± 3 ns per loop (mean ± std. dev. of 7 runs, 1,000,000 loops each)\n",
      "164 ns ± 0.239 ns per loop (mean ± std. dev. of 7 runs, 10,000,000 loops each)\n"
     ]
    }
   ],
   "source": [
    "import typing\n",
    "import pydantic\n",
    "\n",
    "adapter = pydantic.TypeAdapter(dict | list)\n",
    "%timeit adapter.validate_json('[{\"test\": \"test\"}, {\"test1\": true}]')\n",
    "\n",
    "%timeit orjson.loads('[{\"test\": \"test\"}, {\"test1\": true}]')"
   ]
  },
  {
   "cell_type": "code",
   "execution_count": 70,
   "id": "a6f9f0c5-9df8-48b1-b89f-65114f727d11",
   "metadata": {},
   "outputs": [
    {
     "name": "stdout",
     "output_type": "stream",
     "text": [
      "863 ns ± 5.68 ns per loop (mean ± std. dev. of 7 runs, 1,000,000 loops each)\n",
      "958 ns ± 2.61 ns per loop (mean ± std. dev. of 7 runs, 1,000,000 loops each)\n"
     ]
    }
   ],
   "source": [
    "import pydantic\n",
    "import orjson\n",
    "\n",
    "class Model(pydantic.BaseModel):\n",
    "    test: str\n",
    "    test1: bool\n",
    "\n",
    "%timeit Model.model_validate_json('{\"test\": \"test\", \"test1\": true}')\n",
    "\n",
    "%timeit Model.model_validate(orjson.loads('{\"test\": \"test\", \"test1\": true}'))"
   ]
  },
  {
   "cell_type": "markdown",
   "id": "9c59dd0c-f7e1-4975-ac4b-6c807ae7ec87",
   "metadata": {},
   "source": [
    "# Int is not converted to str"
   ]
  },
  {
   "cell_type": "code",
   "execution_count": 2,
   "id": "6582bf75-a40d-4c1f-baf1-8b8b8b952200",
   "metadata": {},
   "outputs": [
    {
     "ename": "ValidationError",
     "evalue": "1 validation error for Test\nn\n  Input should be a valid string [type=string_type, input_value=1, input_type=int]\n    For further information visit https://errors.pydantic.dev/2.1/v/string_type",
     "output_type": "error",
     "traceback": [
      "\u001b[0;31m---------------------------------------------------------------------------\u001b[0m",
      "\u001b[0;31mValidationError\u001b[0m                           Traceback (most recent call last)",
      "Cell \u001b[0;32mIn[2], line 6\u001b[0m\n\u001b[1;32m      3\u001b[0m \u001b[38;5;28;01mclass\u001b[39;00m \u001b[38;5;21;01mTest\u001b[39;00m(pydantic\u001b[38;5;241m.\u001b[39mBaseModel):\n\u001b[1;32m      4\u001b[0m     n: \u001b[38;5;28mstr\u001b[39m\n\u001b[0;32m----> 6\u001b[0m \u001b[43mTest\u001b[49m\u001b[43m(\u001b[49m\u001b[43mn\u001b[49m\u001b[38;5;241;43m=\u001b[39;49m\u001b[38;5;241;43m1\u001b[39;49m\u001b[43m)\u001b[49m\n",
      "File \u001b[0;32m~/src/notes/.venv/lib/python3.10/site-packages/pydantic/main.py:159\u001b[0m, in \u001b[0;36mBaseModel.__init__\u001b[0;34m(__pydantic_self__, **data)\u001b[0m\n\u001b[1;32m    157\u001b[0m \u001b[38;5;66;03m# `__tracebackhide__` tells pytest and some other tools to omit this function from tracebacks\u001b[39;00m\n\u001b[1;32m    158\u001b[0m __tracebackhide__ \u001b[38;5;241m=\u001b[39m \u001b[38;5;28;01mTrue\u001b[39;00m\n\u001b[0;32m--> 159\u001b[0m \u001b[43m__pydantic_self__\u001b[49m\u001b[38;5;241;43m.\u001b[39;49m\u001b[43m__pydantic_validator__\u001b[49m\u001b[38;5;241;43m.\u001b[39;49m\u001b[43mvalidate_python\u001b[49m\u001b[43m(\u001b[49m\u001b[43mdata\u001b[49m\u001b[43m,\u001b[49m\u001b[43m \u001b[49m\u001b[43mself_instance\u001b[49m\u001b[38;5;241;43m=\u001b[39;49m\u001b[43m__pydantic_self__\u001b[49m\u001b[43m)\u001b[49m\n",
      "\u001b[0;31mValidationError\u001b[0m: 1 validation error for Test\nn\n  Input should be a valid string [type=string_type, input_value=1, input_type=int]\n    For further information visit https://errors.pydantic.dev/2.1/v/string_type"
     ]
    }
   ],
   "source": [
    "import pydantic\n",
    "\n",
    "class Test(pydantic.BaseModel):\n",
    "    n: str\n",
    "\n",
    "Test(n=1)"
   ]
  },
  {
   "cell_type": "code",
   "execution_count": 3,
   "id": "e4d13bbf-571f-48ba-941e-1da6a7fbefe4",
   "metadata": {},
   "outputs": [],
   "source": [
    "# Проблема с copy.copy, как-будто не работает в pydantic1.x, нужно проверить"
   ]
  },
  {
   "cell_type": "code",
   "execution_count": null,
   "id": "9a8463c2-9184-4d79-a27f-62a44e81fafc",
   "metadata": {},
   "outputs": [],
   "source": []
  }
 ],
 "metadata": {
  "kernelspec": {
   "display_name": "Python 3 (ipykernel)",
   "language": "python",
   "name": "python3"
  },
  "language_info": {
   "codemirror_mode": {
    "name": "ipython",
    "version": 3
   },
   "file_extension": ".py",
   "mimetype": "text/x-python",
   "name": "python",
   "nbconvert_exporter": "python",
   "pygments_lexer": "ipython3",
   "version": "3.10.7"
  }
 },
 "nbformat": 4,
 "nbformat_minor": 5
}
