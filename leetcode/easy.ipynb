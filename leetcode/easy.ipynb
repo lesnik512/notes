{
 "cells": [
  {
   "cell_type": "code",
   "execution_count": 6,
   "id": "immune-division",
   "metadata": {},
   "outputs": [
    {
     "data": {
      "text/plain": [
       "['1',\n",
       " '2',\n",
       " 'Fizz',\n",
       " '4',\n",
       " 'Buzz',\n",
       " 'Fizz',\n",
       " '7',\n",
       " '8',\n",
       " 'Fizz',\n",
       " 'Buzz',\n",
       " '11',\n",
       " 'Fizz',\n",
       " '13',\n",
       " '14',\n",
       " 'FizzBuzz']"
      ]
     },
     "execution_count": 6,
     "metadata": {},
     "output_type": "execute_result"
    }
   ],
   "source": [
    "# https://leetcode.com/problems/fizz-buzz/\n",
    "\n",
    "class Solution:\n",
    "    m = (False, \"Fizz\", \"Buzz\", \"FizzBuzz\")\n",
    "    cache = {}\n",
    "    \n",
    "    def is_mul(self, a, b):\n",
    "        \"\"\"check if b is multiple of a\"\"\"\n",
    "        return a % b == 0\n",
    "\n",
    "    def _get_item(self, i: int) -> str:\n",
    "        item = self.cache.get(i)\n",
    "        if not item:\n",
    "            item = self.m[self.is_mul(i, 3) + 2*self.is_mul(i, 5)] or str(i)\n",
    "            self.cache[i] = item\n",
    "        return item\n",
    "\n",
    "    def fizzBuzz(self, n: int) -> List[str]:\n",
    "        return [self._get_item(i) for i in range(1, n+1)]\n",
    "\n",
    "\n",
    "Solution().fizzBuzz(15)"
   ]
  },
  {
   "cell_type": "code",
   "execution_count": null,
   "id": "polyphonic-father",
   "metadata": {},
   "outputs": [],
   "source": []
  }
 ],
 "metadata": {
  "kernelspec": {
   "display_name": "Python 3",
   "language": "python",
   "name": "python3"
  },
  "language_info": {
   "codemirror_mode": {
    "name": "ipython",
    "version": 3
   },
   "file_extension": ".py",
   "mimetype": "text/x-python",
   "name": "python",
   "nbconvert_exporter": "python",
   "pygments_lexer": "ipython3",
   "version": "3.8.5"
  }
 },
 "nbformat": 4,
 "nbformat_minor": 5
}
