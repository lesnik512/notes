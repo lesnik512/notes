{
 "cells": [
  {
   "cell_type": "markdown",
   "id": "e20c2232-f03f-4fe4-be24-c8d93ed89b4d",
   "metadata": {},
   "source": [
    "## timeit decorator for generator"
   ]
  },
  {
   "cell_type": "code",
   "execution_count": 1,
   "id": "e566e69e-c7d7-4323-937a-f26d33486b37",
   "metadata": {},
   "outputs": [
    {
     "name": "stdout",
     "output_type": "stream",
     "text": [
      "7.788196086883545\n",
      "[1, 2, 3]\n"
     ]
    }
   ],
   "source": [
    "import time\n",
    "\n",
    "def decor(func):\n",
    "    def generator_wrapper(*args, **kwargs):\n",
    "        time_start = time.time()\n",
    "        gen = func(*args, **kwargs)\n",
    "        yield from gen\n",
    "        time_finish = time.time()-time_start\n",
    "        print(time_finish)\n",
    "    return generator_wrapper\n",
    "\n",
    "@decor\n",
    "def myfunc():\n",
    "    for i in range(1, 4):\n",
    "        time.sleep(i)\n",
    "        yield i\n",
    "    time.sleep(1.77)  # просто так\n",
    "\n",
    "print(list(myfunc()))"
   ]
  },
  {
   "cell_type": "code",
   "execution_count": 2,
   "id": "6669740a-5405-413b-bca9-1e663e66c050",
   "metadata": {},
   "outputs": [],
   "source": [
    "## save most common words from website\n",
    "\n",
    "# обойти все страницы и сохранить top-100 самых частотных слов в файл\n",
    "# Пример:\n",
    "# 20 мама\n",
    "# 10 мыла\n",
    "# 5 раму\n",
    "\n",
    "\n",
    "import requests\n",
    "from collections import deque, Counter\n",
    "from typing import Dict, List\n",
    "\n",
    "root_url = 'http:/ru.wikipedia.org'\n",
    "\n",
    "\n",
    "def get_urls(page_content: str) -> List[str]:\n",
    "    return []\n",
    "\n",
    "\n",
    "def count_words_in_page(page_content: str) -> Dict[str, int]:\n",
    "    return {}\n",
    "\n",
    "\n",
    "def _get_content(url: str) -> str:\n",
    "    r = requests.get(root_url)\n",
    "    return r.content\n",
    "\n",
    "\n",
    "def count_words(root_url: str):\n",
    "    l = [root_url]\n",
    "    seen = set()\n",
    "    result = Counter()\n",
    "    while l:\n",
    "        url = l.pop()\n",
    "        if url in seen:\n",
    "            continue\n",
    "        page_content = _get_content(root_url)\n",
    "        urls = set(get_urls(page_content))\n",
    "        result.update(count_words_in_page(page_content))\n",
    "        l.extend(set(urls) - seen)\n",
    "    with open(\"result.txt\", \"w\") as f:\n",
    "        f.writelines(f\"{v} {k}\" for k, v in l.most_common(100))\n"
   ]
  },
  {
   "cell_type": "code",
   "execution_count": 7,
   "id": "a5d5393b-28e7-4aaa-b3a7-07dedeaed7ee",
   "metadata": {},
   "outputs": [
    {
     "data": {
      "text/plain": [
       "('0-5,8-9,11', '1-4', '1,4')"
      ]
     },
     "execution_count": 7,
     "metadata": {},
     "output_type": "execute_result"
    }
   ],
   "source": [
    "\"\"\"\n",
    "Дан список целых чисел, повторяющихся элементов в списке нет.\n",
    "Нужно преобразовать это множество в строку, \n",
    "сворачивая соседние по числовому ряду числа в диапазоны.\n",
    "\n",
    "Примеры:\n",
    "- [1, 4, 5, 2, 3, 9, 8, 11, 0] => \"0-5,8-9,11\"\n",
    "- [1, 4, 3, 2] => \"1-4\"\n",
    "- [1, 4] => \"1,4\"\n",
    "\"\"\"\n",
    "\n",
    "def compress(l):\n",
    "    l.sort()\n",
    "    prev = first = l[0] # 1\n",
    "    result = []\n",
    "    for x in l:\n",
    "        if x - prev <= 1:\n",
    "            prev = x\n",
    "            continue\n",
    "        result.append((first, prev)) # 5\n",
    "        first = prev = x\n",
    "    \n",
    "    result.append((first, x))\n",
    "    \n",
    "    return \",\".join(str(k) if v == k else f\"{k}-{v}\" for k, v in result)\n",
    "\n",
    "compress([1, 4, 5, 2, 3, 9, 8, 11, 0]), compress([1, 4, 3, 2]), compress([1, 4])"
   ]
  },
  {
   "cell_type": "code",
   "execution_count": 3,
   "id": "a62bb199-6329-40e1-98f7-e7517d805d04",
   "metadata": {},
   "outputs": [],
   "source": [
    "# Например, даны два массива\n",
    "# [1, 2, 3, 2, 0]\n",
    "# [5, 1, 2, 7, 3, 2]\n",
    "# Надо вернуть [1, 2, 2, 3] (порядок неважен)\n",
    "from typing import List\n",
    "\n",
    "def intersection(a: List[int], b: List[int]):\n",
    "    pass"
   ]
  },
  {
   "cell_type": "code",
   "execution_count": null,
   "id": "4280e54b-1e96-4faa-a796-230163c87ccd",
   "metadata": {},
   "outputs": [],
   "source": []
  }
 ],
 "metadata": {
  "kernelspec": {
   "display_name": "Python 3",
   "language": "python",
   "name": "python3"
  },
  "language_info": {
   "codemirror_mode": {
    "name": "ipython",
    "version": 3
   },
   "file_extension": ".py",
   "mimetype": "text/x-python",
   "name": "python",
   "nbconvert_exporter": "python",
   "pygments_lexer": "ipython3",
   "version": "3.8.5"
  }
 },
 "nbformat": 4,
 "nbformat_minor": 5
}
