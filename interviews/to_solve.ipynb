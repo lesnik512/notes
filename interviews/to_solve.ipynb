{
 "cells": [
  {
   "cell_type": "markdown",
   "id": "41a122fa-9065-4e94-8a68-58621dc6acb9",
   "metadata": {},
   "source": [
    "Есть дерево содержащее в узлах значения A-Z вернуть любые два узла содержащих одинаковое подмножество значений(включая этот узел)"
   ]
  },
  {
   "cell_type": "code",
   "execution_count": 1,
   "id": "ac61b91f-c704-40ed-8b30-967ca231b6f6",
   "metadata": {},
   "outputs": [],
   "source": [
    "class Tree:\n",
    "    def __init__(self, data, left=None, right=None):\n",
    "        self.data = data\n",
    "        self.left = left\n",
    "        self.right = right\n",
    "\n",
    "root = Tree(\n",
    "    1,\n",
    "    Tree(\n",
    "        2,\n",
    "        left=Tree(3),\n",
    "    ),\n",
    "    Tree(\n",
    "        3,\n",
    "        right=Tree(2)\n",
    "    ),\n",
    ")"
   ]
  },
  {
   "cell_type": "code",
   "execution_count": null,
   "id": "59c074a7-8605-452c-b130-a23e7f9b0128",
   "metadata": {},
   "outputs": [],
   "source": [
    "# Дан текст T и строка S. Требуется найти подстроку S' в T такую, что она совпадает с S с точностью до перестановки букв.\n",
    "# В качестве ответа стоит вернуть индекс первого вхождения, или -1, если такая подстрока S' не нашлась.\n",
    "\n",
    "tesfestt\n",
    "test\n",
    "\n",
    "{tt: 0, e: 0, s: 0}\n",
    "\n",
    "def substring_with_shuffle(text: str, needle: str):\n",
    "    start, end = 0\n",
    "    diff = {}\n",
    "    for c in needle:\n",
    "        if c not in diff:\n",
    "            diff[c] = 1\n",
    "        else:\n",
    "            diff[c] += 1\n",
    "    while start <= len(text) and end <= len(text):\n",
    "        curr = text[start]\n",
    "        if curr not in diff:\n",
    "            start += 1\n",
    "            end = start\n",
    "            continue\n",
    "        if diff[curr] > 1:\n",
    "            diff[curr] -= 1\n",
    "            continue\n",
    "        if diff[curr] == 1:\n",
    "            del diff[curr]\n",
    "            continue\n",
    "        curr = text[end]\n",
    "        while curr not in diff or start >= end:\n",
    "            if start in diff:\n",
    "                diff[start] += 1\n",
    "            else:\n",
    "                diff[start] = 1\n",
    "            start += 1\n",
    "        if len(diff) == 0:\n",
    "            return start\n",
    "\n",
    "    return -1\n",
    " "
   ]
  }
 ],
 "metadata": {
  "kernelspec": {
   "display_name": "Python 3 (ipykernel)",
   "language": "python",
   "name": "python3"
  },
  "language_info": {
   "codemirror_mode": {
    "name": "ipython",
    "version": 3
   },
   "file_extension": ".py",
   "mimetype": "text/x-python",
   "name": "python",
   "nbconvert_exporter": "python",
   "pygments_lexer": "ipython3",
   "version": "3.9.10"
  }
 },
 "nbformat": 4,
 "nbformat_minor": 5
}
