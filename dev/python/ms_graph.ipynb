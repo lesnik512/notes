{
 "cells": [
  {
   "cell_type": "code",
   "execution_count": 1,
   "id": "77d04e7c-4698-4c5e-9b35-c8869b02336a",
   "metadata": {},
   "outputs": [
    {
     "name": "stdout",
     "output_type": "stream",
     "text": [
      "env: AZURE_TENANT_ID=test\n",
      "env: AZURE_CLIENT_ID=test\n",
      "env: AZURE_CLIENT_SECRET=test\n"
     ]
    }
   ],
   "source": [
    "%env AZURE_TENANT_ID=test\n",
    "%env AZURE_CLIENT_ID=test\n",
    "%env AZURE_CLIENT_SECRET=test\n",
    "\n",
    "from azure.identity import EnvironmentCredential\n",
    "from msgraph.core import GraphClient\n",
    "import json\n",
    "\n",
    "credentials = EnvironmentCredential()\n",
    "\n",
    "client = GraphClient(credential=credentials)"
   ]
  },
  {
   "cell_type": "code",
   "execution_count": 92,
   "id": "9d48d68e-bad1-42bd-ba46-82f9017bbd6c",
   "metadata": {},
   "outputs": [
    {
     "name": "stdout",
     "output_type": "stream",
     "text": [
      "{'@odata.context': 'https://graph.microsoft.com/v1.0/$metadata#schemaExtensions/$entity', 'id': 'extwe9epyxj_events', 'description': 'events', 'targetTypes': ['Event'], 'status': 'InDevelopment', 'owner': '5a6b8cf9-a497-4b2d-85cc-b795e935e884', 'properties': [{'name': 'goalId', 'type': 'String'}, {'name': 'tasks', 'type': 'String'}, {'name': 'workshopId', 'type': 'String'}, {'name': 'roverId', 'type': 'String'}]}\n"
     ]
    }
   ],
   "source": [
    "body = {\n",
    "    \"id\": \"events\",\n",
    "    \"description\": \"events\",\n",
    "    \"owner\": \"5a6b8cf9-a497-4b2d-85cc-b795e935e884\",\n",
    "    \"targetTypes\": [\n",
    "        \"Event\"\n",
    "    ],\n",
    "    \"properties\": [\n",
    "        {\n",
    "            \"name\": \"goalId\",\n",
    "            \"type\": \"String\"\n",
    "        },\n",
    "        {\n",
    "            \"name\": \"tasks\",\n",
    "            \"type\": \"String\"\n",
    "        },\n",
    "        {\n",
    "            \"name\": \"workshopId\",\n",
    "            \"type\": \"String\"\n",
    "        },\n",
    "        {\n",
    "            \"name\": \"roverId\",\n",
    "            \"type\": \"String\"\n",
    "        }\n",
    "    ]\n",
    "}\n",
    "\n",
    "result = client.post('/schemaExtensions', data=json.dumps(body), headers={'Content-Type': 'application/json'})\n",
    "print(result.json())"
   ]
  }
 ],
 "metadata": {
  "kernelspec": {
   "display_name": "Python 3",
   "language": "python",
   "name": "python3"
  },
  "language_info": {
   "codemirror_mode": {
    "name": "ipython",
    "version": 3
   },
   "file_extension": ".py",
   "mimetype": "text/x-python",
   "name": "python",
   "nbconvert_exporter": "python",
   "pygments_lexer": "ipython3",
   "version": "3.8.5"
  }
 },
 "nbformat": 4,
 "nbformat_minor": 5
}
