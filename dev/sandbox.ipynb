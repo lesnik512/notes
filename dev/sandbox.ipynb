{
 "cells": [
  {
   "cell_type": "code",
   "execution_count": 11,
   "id": "roman-sample",
   "metadata": {},
   "outputs": [
    {
     "name": "stdout",
     "output_type": "stream",
     "text": [
      "mo\n",
      "mou\n",
      "mous\n",
      "mouse\n"
     ]
    },
    {
     "data": {
      "text/plain": [
       "[['mobile', 'moneypot', 'monitor'],\n",
       " ['mouse', 'mousepad'],\n",
       " ['mouse', 'mousepad'],\n",
       " ['mouse', 'mousepad']]"
      ]
     },
     "execution_count": 11,
     "metadata": {},
     "output_type": "execute_result"
    }
   ],
   "source": [
    "#!/bin/python3\n",
    "\n",
    "import math\n",
    "import os\n",
    "import random\n",
    "import re\n",
    "import sys\n",
    "\n",
    "\n",
    "\n",
    "#\n",
    "# Complete the 'searchSuggestions' function below.\n",
    "#\n",
    "# The function is expected to return a 2D_STRING_ARRAY.\n",
    "# The function accepts following parameters:\n",
    "#  1. STRING_ARRAY repository\n",
    "#  2. STRING customerQuery\n",
    "#\n",
    "import itertools\n",
    "\n",
    "def searchSuggestions(repository, customerQuery):\n",
    "    min_length = 2\n",
    "    repository = sorted(repository)\n",
    "    query = customerQuery.lower()\n",
    "    length = len(query)\n",
    "    if length < min_length:\n",
    "        return []\n",
    "    result = []\n",
    "    for i in range(min_length, length+1):\n",
    "        print(query[:i])\n",
    "        result.append(list(itertools.islice((x for x in repository if query[:i] in x.lower()), 3)))\n",
    "    return result\n",
    "\n",
    "searchSuggestions([\"mobile\", \"mouse\", \"moneypot\", \"monitor\", \"mousepad\"], \"mouse\")"
   ]
  },
  {
   "cell_type": "code",
   "execution_count": 5,
   "id": "great-drama",
   "metadata": {},
   "outputs": [
    {
     "name": "stdout",
     "output_type": "stream",
     "text": [
      "1\n",
      "2020-01-10 00:00:00 2020-03-25 00:00:00\n"
     ]
    }
   ],
   "source": [
    "from datetime import datetime, timedelta\n",
    "import sys\n",
    "\n",
    "type_ = \"MONTH\"  # WEEK, MONTH, QUARTER, YEAR, REVIEW\n",
    "dates = \"2019-12-10 2020-03-25\"\n",
    "\n",
    "dates = [datetime.strptime(x, \"%Y-%m-%d\") for x in dates.split()]\n",
    "start: datetime = dates[0]\n",
    "end: datetime = dates[1]\n",
    "current = start\n",
    "\n",
    "if type_ == \"MONTH\":\n",
    "    while current < end:\n",
    "        month = current.month+1\n",
    "        year = current.year\n",
    "        if month > 12:\n",
    "            month = 1\n",
    "            year += 1\n",
    "\n",
    "        current = current.replace(month=month, year=year, day=1)\n",
    "        if current > end:\n",
    "            current = end + timedelta(days=1)\n",
    "        print(f\"{start} {current - timedelta(days=1)}\")\n",
    "        start = current\n",
    "\n",
    "\n",
    "if type_ == \"WEEK\":\n",
    "    while current < end:\n",
    "        week = current.weekday()+1\n",
    "        year = current.year\n",
    "        if month > 12:\n",
    "            month = 1\n",
    "            year += 1\n",
    "\n",
    "        current = current.replace(month=month, year=year, day=1)\n",
    "        if current > end:\n",
    "            current = end + timedelta(days=1)\n",
    "        print(f\"{start} {current - timedelta(days=1)}\")\n",
    "        start = current\n"
   ]
  },
  {
   "cell_type": "code",
   "execution_count": null,
   "id": "editorial-project",
   "metadata": {},
   "outputs": [],
   "source": []
  }
 ],
 "metadata": {
  "kernelspec": {
   "display_name": "Python 3",
   "language": "python",
   "name": "python3"
  },
  "language_info": {
   "codemirror_mode": {
    "name": "ipython",
    "version": 3
   },
   "file_extension": ".py",
   "mimetype": "text/x-python",
   "name": "python",
   "nbconvert_exporter": "python",
   "pygments_lexer": "ipython3",
   "version": "3.8.5"
  }
 },
 "nbformat": 4,
 "nbformat_minor": 5
}
