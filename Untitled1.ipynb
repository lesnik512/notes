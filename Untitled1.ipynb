{
 "cells": [
  {
   "cell_type": "code",
   "execution_count": 1,
   "id": "ca66e53a-249b-4255-b102-7cc042639ab6",
   "metadata": {},
   "outputs": [
    {
     "name": "stdout",
     "output_type": "stream",
     "text": [
      "70 2000 7\n"
     ]
    }
   ],
   "source": [
    "from itertools import product\n",
    "\n",
    "list_a = [1, 2020, 70]\n",
    "list_b = [2, 4, 7, 2000]\n",
    "list_c = [3, 70, 7]\n",
    "\n",
    "for a, b, c in product(list_a, list_b, list_c):\n",
    "    if a + b + c == 2077:\n",
    "        print(a, b, c)\n",
    "# 70 2000 7"
   ]
  },
  {
   "cell_type": "code",
   "execution_count": 2,
   "id": "bc13d666-96cd-4681-bebb-54cea266cdcb",
   "metadata": {},
   "outputs": [
    {
     "name": "stdout",
     "output_type": "stream",
     "text": [
      "True\n",
      "False\n"
     ]
    },
    {
     "ename": "AttributeError",
     "evalue": "'Foo' object has no attribute 'BAR'",
     "output_type": "error",
     "traceback": [
      "\u001b[0;31m---------------------------------------------------------------------------\u001b[0m",
      "\u001b[0;31mAttributeError\u001b[0m                            Traceback (most recent call last)",
      "\u001b[0;32m<ipython-input-2-dbe094dfee22>\u001b[0m in \u001b[0;36m<module>\u001b[0;34m\u001b[0m\n\u001b[1;32m     31\u001b[0m \u001b[0;34m\u001b[0m\u001b[0m\n\u001b[1;32m     32\u001b[0m \u001b[0mf\u001b[0m \u001b[0;34m=\u001b[0m \u001b[0mFoo\u001b[0m\u001b[0;34m(\u001b[0m\u001b[0;34m)\u001b[0m\u001b[0;34m\u001b[0m\u001b[0;34m\u001b[0m\u001b[0m\n\u001b[0;32m---> 33\u001b[0;31m \u001b[0mprint\u001b[0m\u001b[0;34m(\u001b[0m\u001b[0mf\u001b[0m\u001b[0;34m.\u001b[0m\u001b[0mBAR\u001b[0m\u001b[0;34m)\u001b[0m\u001b[0;34m\u001b[0m\u001b[0;34m\u001b[0m\u001b[0m\n\u001b[0m\u001b[1;32m     34\u001b[0m \u001b[0;31m# Out: 'bip'\u001b[0m\u001b[0;34m\u001b[0m\u001b[0;34m\u001b[0m\u001b[0;34m\u001b[0m\u001b[0m\n",
      "\u001b[0;31mAttributeError\u001b[0m: 'Foo' object has no attribute 'BAR'"
     ]
    }
   ],
   "source": [
    "# the metaclass will automatically get passed the same argument\n",
    "# that you usually pass to `type`\n",
    "def upper_attr(future_class_name, future_class_parents, future_class_attr):\n",
    "    \"\"\"\n",
    "      Return a class object, with the list of its attribute turned\n",
    "      into uppercase.\n",
    "    \"\"\"\n",
    "\n",
    "    # pick up any attribute that doesn't start with '__' and uppercase it\n",
    "    uppercase_attr = {}\n",
    "    for name, val in future_class_attr.items():\n",
    "        if not name.startswith('__'):\n",
    "            uppercase_attr[name.upper()] = val\n",
    "        else:\n",
    "            uppercase_attr[name] = val\n",
    "\n",
    "    # let `type` do the class creation\n",
    "    return type(future_class_name, future_class_parents, uppercase_attr)\n",
    "\n",
    "__metaclass__ = upper_attr # this will affect all classes in the module\n",
    "\n",
    "class Foo(): # global __metaclass__ won't work with \"object\" though\n",
    "    # but we can define __metaclass__ here instead to affect only this class\n",
    "    # and this will work with \"object\" children\n",
    "    bar = 'bip'\n",
    "\n",
    "print(hasattr(Foo, 'bar'))\n",
    "# Out: False\n",
    "print(hasattr(Foo, 'BAR'))\n",
    "# Out: True\n",
    "\n",
    "f = Foo()\n",
    "print(f.BAR)\n",
    "# Out: 'bip'"
   ]
  },
  {
   "cell_type": "code",
   "execution_count": null,
   "id": "2be96152-799f-4ee5-a6b3-9771274005ee",
   "metadata": {},
   "outputs": [],
   "source": []
  }
 ],
 "metadata": {
  "kernelspec": {
   "display_name": "Python 3",
   "language": "python",
   "name": "python3"
  },
  "language_info": {
   "codemirror_mode": {
    "name": "ipython",
    "version": 3
   },
   "file_extension": ".py",
   "mimetype": "text/x-python",
   "name": "python",
   "nbconvert_exporter": "python",
   "pygments_lexer": "ipython3",
   "version": "3.8.5"
  }
 },
 "nbformat": 4,
 "nbformat_minor": 5
}
