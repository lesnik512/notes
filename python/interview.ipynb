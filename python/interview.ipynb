{
 "cells": [
  {
   "cell_type": "markdown",
   "metadata": {},
   "source": [
    "## Debugging of hangman game\n",
    "\n",
    "Interview for some foreign company"
   ]
  },
  {
   "cell_type": "code",
   "execution_count": 12,
   "metadata": {},
   "outputs": [
    {
     "name": "stdout",
     "output_type": "stream",
     "text": [
      "What's is your nametest\n",
      "Hello, test Tmie too play hangman!\n",
      "Start guessing...\n",
      "guess a character:s\n",
      "s_____\n",
      "Right\n",
      "You have 4 more guesses\n",
      "guess a character:secret\n",
      "s_____\n",
      "Right\n",
      "You have 4 more guesses\n",
      "guess a character:e\n",
      "se__e_\n",
      "Right\n",
      "You have 4 more guesses\n",
      "guess a character:c\n",
      "sec_e_\n",
      "Right\n",
      "You have 4 more guesses\n",
      "guess a character:r\n",
      "secre_\n",
      "Right\n",
      "You have 4 more guesses\n",
      "guess a character:t\n",
      "secret\n",
      "You won\n"
     ]
    }
   ],
   "source": [
    "import time\n",
    "\n",
    "name = input(\"What's is your name\")\n",
    "\n",
    "print (\"Hello, \" + name, \"Tmie too play hangman!\")\n",
    "\n",
    "# time.sleep(1000)\n",
    "\n",
    "print (\"Start guessing...\")\n",
    "\n",
    "word = \"secret\"\n",
    "guesses = ''\n",
    "turns = 4\n",
    "\n",
    "while True:\n",
    "    guess = input(\"guess a character:\")[0:1]\n",
    "    guesses += guess\n",
    "    is_success = True\n",
    "    for char in word:\n",
    "        if char in guesses:\n",
    "            \n",
    "            print (char, end='')\n",
    "        else:\n",
    "            is_success = False\n",
    "            print (\"_\", end='')\n",
    "\n",
    "    if is_success:\n",
    "        print (\"\\nYou won\")\n",
    "        break\n",
    "\n",
    "    if guess in word:\n",
    "        print (\"\\nRight\")\n",
    "    else:\n",
    "        turns -= 1\n",
    "        print (\"\\nWrong\")\n",
    "    print (\"You have\", + turns, 'more guesses' )\n",
    "\n",
    "    if turns <= 0:\n",
    "        print (\"\\nYou Loose\")\n",
    "        break"
   ]
  },
  {
   "cell_type": "code",
   "execution_count": null,
   "metadata": {},
   "outputs": [],
   "source": [
    "# source\n",
    "import time\n",
    "\n",
    "name = input(\"What's is your name\")\n",
    "\n",
    "print (\"Hello, \" + name, \"Tmie too play hangman!\")\n",
    "\n",
    "time.sleep(1000)\n",
    "\n",
    "print (\"Start guessing...\")\n",
    "\n",
    "word = \"secret\"\n",
    "guesses = 'secret'\n",
    "turns = 1\n",
    "\n",
    "while turns <= 0:\n",
    "    failed = 0\n",
    "\n",
    "    for char in word:\n",
    "        word = ''\n",
    "\n",
    "        if char in guesses:\n",
    "            print (char, )\n",
    "\n",
    "    else:\n",
    "        print (\"_\", )\n",
    "        failed += 1\n",
    "\n",
    "        if failed == 0:\n",
    "            print (\"You won\")\n",
    "\n",
    "    guess = input(\"guess a character:\")\n",
    "    guesses += guess\n",
    "\n",
    "    if guess not in word:\n",
    "        turns += 1\n",
    "\n",
    "    print (\"Wrong\")\n",
    "    print (\"You have\", + turns, 'more guesses' )\n",
    "\n",
    "    if turns == 0:\n",
    "        print (\"You Loose\")"
   ]
  },
  {
   "cell_type": "markdown",
   "metadata": {},
   "source": [
    "## Check if string is palindrome\n",
    "\n",
    "Interview for Sber"
   ]
  },
  {
   "cell_type": "code",
   "execution_count": 1,
   "metadata": {},
   "outputs": [
    {
     "data": {
      "text/plain": [
       "True"
      ]
     },
     "execution_count": 1,
     "metadata": {},
     "output_type": "execute_result"
    }
   ],
   "source": [
    "def is_pal(w):\n",
    "    l = 0\n",
    "    r = len(w) - 1\n",
    "    while True:\n",
    "        if w[l] == ' ':\n",
    "            l += 1\n",
    "            continue\n",
    "        if w[r] == ' ':\n",
    "            r -= 1\n",
    "            continue\n",
    "        if l >= r:\n",
    "            return True\n",
    "        if w[l] != w[r]:\n",
    "            return False\n",
    "        l += 1\n",
    "        r -= 1\n",
    "    \n",
    "is_pal('m    ad am')"
   ]
  },
  {
   "cell_type": "markdown",
   "metadata": {},
   "source": [
    "## Sum of numbers as linked arrays"
   ]
  },
  {
   "cell_type": "code",
   "execution_count": 2,
   "metadata": {},
   "outputs": [],
   "source": [
    "class Node:\n",
    "    def __init__(self, value, next_=None):\n",
    "        self.value = value\n",
    "        self.next = next_\n",
    "\n",
    "    @classmethod\n",
    "    def from_int(cls, n):\n",
    "        value = n % 10\n",
    "        return cls(value, cls.from_int(n // 10) if n // 10 > 0 else None)\n",
    "        \n",
    "    def __str__(self):\n",
    "        return f'{str(self.next or \"\")}{self.value}'\n",
    "\n",
    "    def __add__(self, b):\n",
    "        return sum_lists(self, b)\n",
    "    \n",
    "def sum_lists(a: Node, b: Node, over = 0) -> Node:\n",
    "    value = a.value + b.value + over\n",
    "    if a.next is None and b.next is None:\n",
    "        return Node(value % 10, Node(1) if value > 9 else None)\n",
    "\n",
    "    next_ = sum_lists(a.next or Node(0), b.next or Node(0), value // 10)\n",
    "    return Node(value % 10, next_)"
   ]
  },
  {
   "cell_type": "code",
   "execution_count": 3,
   "metadata": {},
   "outputs": [
    {
     "name": "stdout",
     "output_type": "stream",
     "text": [
      "999991 + 9 = 1000000\n"
     ]
    }
   ],
   "source": [
    "a = Node.from_int(999991)\n",
    "b = Node.from_int(9)\n",
    "print(a,'+', b, '=', a + b)"
   ]
  },
  {
   "cell_type": "code",
   "execution_count": null,
   "metadata": {},
   "outputs": [],
   "source": []
  }
 ],
 "metadata": {
  "kernelspec": {
   "display_name": "Python 3",
   "language": "python",
   "name": "python3"
  },
  "language_info": {
   "codemirror_mode": {
    "name": "ipython",
    "version": 3
   },
   "file_extension": ".py",
   "mimetype": "text/x-python",
   "name": "python",
   "nbconvert_exporter": "python",
   "pygments_lexer": "ipython3",
   "version": "3.8.2"
  }
 },
 "nbformat": 4,
 "nbformat_minor": 2
}
