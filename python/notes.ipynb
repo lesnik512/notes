{
 "cells": [
  {
   "cell_type": "markdown",
   "metadata": {},
   "source": [
    "## Python Regular Expression Quick Guide\t\n",
    "  \n",
    "|Symbol|Description|\n",
    "|:---|:---|\n",
    "|^|Matches the beginning of a line|\n",
    "|$|Matches the end of the line|\n",
    "|.|Matches any character|\n",
    "|\\s|Matches whitespace|\n",
    "|\\S|Matches any non-whitespace character|\n",
    "|\\*|Repeats a character zero or more times|\n",
    "|\\*?|Repeats a character zero or more times (non-greedy)|\n",
    "|\\+|Repeats a character one or more times|\n",
    "|\\+?|Repeats a character one or more times (non-greedy)|\n",
    "|[aeiou]|Matches a single character in the listed set|\n",
    "|[^XYZ]|Matches a single character not in the listed set|\n",
    "|[a-z0-9]|The set of characters can include a range|\n",
    "|(|Indicates where string extraction is to start|\n",
    "|)|Indicates where string extraction is to end|"
   ]
  },
  {
   "cell_type": "markdown",
   "metadata": {},
   "source": [
    "## Pythonic way"
   ]
  },
  {
   "cell_type": "code",
   "execution_count": 2,
   "metadata": {},
   "outputs": [
    {
     "name": "stdout",
     "output_type": "stream",
     "text": [
      "yellow red green blue "
     ]
    }
   ],
   "source": [
    "# loopoing in reverse order\n",
    "colors = ['red', 'green', 'blue', 'yellow']\n",
    "for color in sorted(colors, reverse=True):\n",
    "    print(color, end=' ')"
   ]
  },
  {
   "cell_type": "code",
   "execution_count": 4,
   "metadata": {},
   "outputs": [
    {
     "data": {
      "text/plain": [
       "['red', 'blue', 'green', 'yellow']"
      ]
     },
     "execution_count": 4,
     "metadata": {},
     "output_type": "execute_result"
    }
   ],
   "source": [
    "# custom sorting by length\n",
    "colors = ['red', 'green', 'blue', 'yellow']\n",
    "sorted(colors, key=len)"
   ]
  },
  {
   "cell_type": "code",
   "execution_count": 7,
   "metadata": {},
   "outputs": [
    {
     "name": "stdout",
     "output_type": "stream",
     "text": [
      "1\n",
      "2\n",
      "\n"
     ]
    },
    {
     "data": {
      "text/plain": [
       "['1', '2']"
      ]
     },
     "execution_count": 7,
     "metadata": {},
     "output_type": "execute_result"
    }
   ],
   "source": [
    "# call a function until a sentinel value\n",
    "from functools import partial\n",
    "blocks = []\n",
    "for block in iter(partial(input), ''):\n",
    "    blocks.append(block)\n",
    "blocks"
   ]
  },
  {
   "cell_type": "code",
   "execution_count": 12,
   "metadata": {},
   "outputs": [],
   "source": [
    "# ignore exception\n",
    "import os\n",
    "from contextlib import contextmanager\n",
    "\n",
    "@contextmanager\n",
    "def ignored(*exceptions):\n",
    "    try:\n",
    "        yield\n",
    "    except exceptions:\n",
    "        pass\n",
    "\n",
    "with ignored(OSError):\n",
    "    os.remove('somefile.tmp')"
   ]
  },
  {
   "cell_type": "code",
   "execution_count": 19,
   "metadata": {},
   "outputs": [
    {
     "data": {
      "text/plain": [
       "'c'"
      ]
     },
     "execution_count": 19,
     "metadata": {},
     "output_type": "execute_result"
    }
   ],
   "source": [
    "# chainmap\n",
    "from collections import ChainMap\n",
    "\n",
    "a = {'key': 'a'}\n",
    "b = {'key': 'b'}\n",
    "c = {'key': 'c'}\n",
    "d = ChainMap(c, b, a)\n",
    "d['key']"
   ]
  },
  {
   "cell_type": "markdown",
   "metadata": {},
   "source": [
    "## Basics"
   ]
  },
  {
   "cell_type": "code",
   "execution_count": 18,
   "metadata": {},
   "outputs": [
    {
     "data": {
      "text/plain": [
       "([0, 2, 4, 6, 8], [0, 2, 4, 6, 8])"
      ]
     },
     "execution_count": 18,
     "metadata": {},
     "output_type": "execute_result"
    }
   ],
   "source": [
    "# slices\n",
    "xs = list(range(10))\n",
    "every_second = slice(None, None, 2)\n",
    "xs[every_second], xs[::2]"
   ]
  },
  {
   "cell_type": "code",
   "execution_count": 22,
   "metadata": {},
   "outputs": [
    {
     "name": "stdout",
     "output_type": "stream",
     "text": [
      "Some implementation!\n",
      "The enrichment from AnotherSubclass\n"
     ]
    }
   ],
   "source": [
    "# abstract classes\n",
    "from abc import ABC, abstractmethod\n",
    " \n",
    "class AbstractClassExample(ABC):\n",
    "    \n",
    "    @abstractmethod\n",
    "    def do_something(self):\n",
    "        print(\"Some implementation!\")\n",
    "        \n",
    "class AnotherSubclass(AbstractClassExample):\n",
    "    def do_something(self):\n",
    "        super().do_something()\n",
    "        print(\"The enrichment from AnotherSubclass\")\n",
    "        \n",
    "x = AnotherSubclass()\n",
    "x.do_something()"
   ]
  },
  {
   "cell_type": "code",
   "execution_count": 24,
   "metadata": {},
   "outputs": [
    {
     "name": "stdout",
     "output_type": "stream",
     "text": [
      "0 1 1 2 3 5 8 13 21 34 55 89 144 "
     ]
    }
   ],
   "source": [
    "# generator\n",
    "def fibonacci():\n",
    "    prev, cur = 0, 1\n",
    "    while True:\n",
    "        yield prev\n",
    "        prev, cur = cur, prev + cur\n",
    "\n",
    "for i in fibonacci():\n",
    "    print(i, end=' ')\n",
    "    if i > 100:\n",
    "        break"
   ]
  },
  {
   "cell_type": "code",
   "execution_count": 25,
   "metadata": {},
   "outputs": [
    {
     "name": "stdout",
     "output_type": "stream",
     "text": [
      "Looking for 'Gotcha!'\n",
      "This one does. Gotcha!\n"
     ]
    }
   ],
   "source": [
    "def grep(pattern):\n",
    "    print(\"Looking for {!r}\".format(pattern))\n",
    "    while True:\n",
    "        line = yield\n",
    "        if pattern in line:\n",
    "            print(line)\n",
    "\n",
    "gen = grep(\"Gotcha!\")\n",
    "next(gen)\n",
    "gen.send(\"This line doesn't have ... what we're looking for\")\n",
    "gen.send(\"This one does not!\")\n",
    "gen.send(\"This one does. Gotcha!\")"
   ]
  },
  {
   "cell_type": "code",
   "execution_count": 26,
   "metadata": {},
   "outputs": [],
   "source": [
    "# context manager\n",
    "from contextlib import contextmanager\n",
    "\n",
    "@contextmanager\n",
    "def cd(path): # __init__\n",
    "    old_path = os.getcwd() # __enter__\n",
    "    os.chdir(path)\n",
    "    try:\n",
    "        yield # ---------\n",
    "    finally:\n",
    "        os.chdir(old_path) # __exit__"
   ]
  },
  {
   "cell_type": "code",
   "execution_count": 27,
   "metadata": {},
   "outputs": [
    {
     "name": "stdout",
     "output_type": "stream",
     "text": [
      "(0, 0, 0, 0, 39, 17) "
     ]
    }
   ],
   "source": [
    "# permutation combination of hex-numbers\n",
    "import itertools\n",
    "numbers = [i for i in range(256)]\n",
    "generator = itertools.product(numbers, repeat=6)\n",
    "for j, i in enumerate(generator):\n",
    "    if j > 10000:\n",
    "        print(i, end=' ')\n",
    "        break"
   ]
  },
  {
   "cell_type": "code",
   "execution_count": 28,
   "metadata": {},
   "outputs": [
    {
     "data": {
      "text/plain": [
       "[__main__.C, __main__.A, __main__.D, __main__.B, object]"
      ]
     },
     "execution_count": 28,
     "metadata": {},
     "output_type": "execute_result"
    }
   ],
   "source": [
    "# method resolution order\n",
    "class D:\n",
    "    def get_some(self):\n",
    "        print('C')\n",
    "\n",
    "class A(D):\n",
    "    def get_some(self):\n",
    "        print('A')\n",
    "\n",
    "class B:\n",
    "    def get_some(self):\n",
    "        print('B')\n",
    "\n",
    "class C(A, B):\n",
    "    pass\n",
    "\n",
    "c = C()\n",
    "C.mro()"
   ]
  },
  {
   "cell_type": "code",
   "execution_count": null,
   "metadata": {},
   "outputs": [],
   "source": []
  }
 ],
 "metadata": {
  "kernelspec": {
   "display_name": "Python 3",
   "language": "python",
   "name": "python3"
  },
  "language_info": {
   "codemirror_mode": {
    "name": "ipython",
    "version": 3
   },
   "file_extension": ".py",
   "mimetype": "text/x-python",
   "name": "python",
   "nbconvert_exporter": "python",
   "pygments_lexer": "ipython3",
   "version": "3.7.3"
  }
 },
 "nbformat": 4,
 "nbformat_minor": 2
}
