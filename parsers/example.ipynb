{
 "cells": [
  {
   "cell_type": "code",
   "execution_count": 18,
   "metadata": {},
   "outputs": [],
   "source": [
    "from bs4 import BeautifulSoup\n",
    "import requests\n",
    "proxies = {\n",
    "    'http': 'socks5://88.249.26.113:1080',\n",
    "    'https': 'socks5://88.249.26.113:1080'\n",
    "}"
   ]
  },
  {
   "cell_type": "code",
   "execution_count": 19,
   "metadata": {},
   "outputs": [],
   "source": [
    "with open('sitemap.txt') as f:\n",
    "    soup = BeautifulSoup(f.read(), 'html.parser')\n",
    "    urls = [x.decode_contents() for x in soup.find_all('loc')]"
   ]
  },
  {
   "cell_type": "code",
   "execution_count": 23,
   "metadata": {},
   "outputs": [],
   "source": [
    "import cfscrape\n",
    "\n",
    "scraper = cfscrape.create_scraper()\n",
    "\n",
    "results = {}\n",
    "for url in urls:\n",
    "    text = scraper.get(url, proxies=proxies).content\n",
    "    soup = BeautifulSoup(text, 'html.parser')\n",
    "    descr = soup.select(\"div[class^=b-content-field]\")[0].decode_contents()\n",
    "    results[url] = descr"
   ]
  },
  {
   "cell_type": "code",
   "execution_count": 29,
   "metadata": {},
   "outputs": [],
   "source": [
    "import json\n",
    "with open('file.txt', 'w') as file:\n",
    "     file.write(json.dumps(results, indent=2, ensure_ascii=False))"
   ]
  },
  {
   "cell_type": "code",
   "execution_count": null,
   "metadata": {},
   "outputs": [],
   "source": []
  }
 ],
 "metadata": {
  "kernelspec": {
   "display_name": "Python 3",
   "language": "python",
   "name": "python3"
  },
  "language_info": {
   "codemirror_mode": {
    "name": "ipython",
    "version": 3
   },
   "file_extension": ".py",
   "mimetype": "text/x-python",
   "name": "python",
   "nbconvert_exporter": "python",
   "pygments_lexer": "ipython3",
   "version": "3.8.2"
  }
 },
 "nbformat": 4,
 "nbformat_minor": 4
}
