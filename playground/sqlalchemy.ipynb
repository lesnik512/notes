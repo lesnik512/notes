{
 "cells": [
  {
   "cell_type": "code",
   "execution_count": 37,
   "id": "11e748c9-1846-4028-9267-c921ffa2722c",
   "metadata": {},
   "outputs": [
    {
     "name": "stdout",
     "output_type": "stream",
     "text": [
      "[<__main__.Bar object at 0x7f80856b7100>] []\n"
     ]
    }
   ],
   "source": [
    "from sqlalchemy import event, create_engine, Column, Integer, ForeignKey\n",
    "from sqlalchemy.orm import declarative_base, sessionmaker, relationship, selectinload, with_loader_criteria\n",
    "from sqlalchemy.sql.expression import select\n",
    "\n",
    "\n",
    "Base = declarative_base()\n",
    "class Foo(Base):\n",
    "    __tablename__ = \"foo\"\n",
    "    id = Column(Integer, primary_key=True)\n",
    "    foo = Column(Integer)\n",
    "    bars = relationship('Bar')\n",
    "\n",
    "class Bar(Base):\n",
    "    __tablename__ = \"bar\"\n",
    "    id = Column(Integer, primary_key=True)\n",
    "    bar = Column(Integer)\n",
    "    foo_id = Column(Integer, ForeignKey('foo.id'))\n",
    "    foo = relationship(Foo, back_populates='bars')\n",
    "\n",
    "\n",
    "engine = create_engine(\"sqlite://\", future=True)\n",
    "Session = sessionmaker()\n",
    "Base.metadata.create_all(bind=engine)\n",
    "\n",
    "connection = engine.connect()\n",
    "txn = connection.begin()\n",
    "session = Session(bind=connection)\n",
    "\n",
    "session.add(foo1 := Foo(foo=1))\n",
    "session.add(foo2 := Foo(foo=2))\n",
    "session.add(Bar(bar=1, foo=foo1))\n",
    "session.add(Bar(bar=2, foo=foo2))\n",
    "session.commit()\n",
    "\n",
    "q = select(Foo).options(selectinload(Foo.bars), with_loader_criteria(Bar, Bar.bar == 1))\n",
    "result = session.execute(q).scalars().all()\n",
    "print(result[0].bars, result[1].bars)  # [] []"
   ]
  }
 ],
 "metadata": {
  "kernelspec": {
   "display_name": "Python 3",
   "language": "python",
   "name": "python3"
  },
  "language_info": {
   "codemirror_mode": {
    "name": "ipython",
    "version": 3
   },
   "file_extension": ".py",
   "mimetype": "text/x-python",
   "name": "python",
   "nbconvert_exporter": "python",
   "pygments_lexer": "ipython3",
   "version": "3.8.5"
  }
 },
 "nbformat": 4,
 "nbformat_minor": 5
}
