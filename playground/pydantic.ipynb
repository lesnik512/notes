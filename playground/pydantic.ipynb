{
 "cells": [
  {
   "cell_type": "markdown",
   "id": "6e58e503-4566-4a04-ac5b-e1169c78ea15",
   "metadata": {},
   "source": [
    "## List generic model"
   ]
  },
  {
   "cell_type": "code",
   "execution_count": 169,
   "id": "9279409b-66ac-45e5-a7e5-e903b8e745f3",
   "metadata": {},
   "outputs": [
    {
     "name": "stdout",
     "output_type": "stream",
     "text": [
      "1 2 3 4 5 6 "
     ]
    }
   ],
   "source": [
    "from pydantic import BaseModel\n",
    "from pydantic.generics import GenericModel\n",
    "from typing import List, TypeVar, Generic\n",
    "\n",
    "DataT = TypeVar('DataT')\n",
    "\n",
    "class ListModel(GenericModel, Generic[DataT]):\n",
    "    __root__: List[DataT]\n",
    "    def __init__(self, *args, **kwargs):\n",
    "        super().__init__(__root__=args, **kwargs)\n",
    "\n",
    "    def __getitem__(self, key):\n",
    "        return self.__root__[key]\n",
    "\n",
    "    def __iter__(self):\n",
    "        return iter(self.__root__)\n",
    "\n",
    "    def __next__(self):\n",
    "        return next(self.__root__)\n",
    "\n",
    "\n",
    "MyListInt = ListModel[int]\n",
    "MyListStr = ListModel[str]\n",
    "\n",
    "ints = MyListInt(1,2,3,4,5,6)\n",
    "strings = MyListStr(\"a\", \"b\", \"c\")\n",
    "for x in ints:\n",
    "    print(x, end=\" \")"
   ]
  },
  {
   "cell_type": "code",
   "execution_count": null,
   "id": "0aaf8d4a-0d7f-400a-be55-a97350722651",
   "metadata": {},
   "outputs": [],
   "source": []
  }
 ],
 "metadata": {
  "kernelspec": {
   "display_name": "Python 3",
   "language": "python",
   "name": "python3"
  },
  "language_info": {
   "codemirror_mode": {
    "name": "ipython",
    "version": 3
   },
   "file_extension": ".py",
   "mimetype": "text/x-python",
   "name": "python",
   "nbconvert_exporter": "python",
   "pygments_lexer": "ipython3",
   "version": "3.8.5"
  }
 },
 "nbformat": 4,
 "nbformat_minor": 5
}
