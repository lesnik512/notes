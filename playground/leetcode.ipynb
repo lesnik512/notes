{
 "cells": [
  {
   "cell_type": "code",
   "execution_count": 1,
   "id": "5cf75e90-bda8-446d-be3e-abd402817e81",
   "metadata": {},
   "outputs": [
    {
     "data": {
      "text/plain": [
       "[1, 0, 0]"
      ]
     },
     "execution_count": 1,
     "metadata": {},
     "output_type": "execute_result"
    }
   ],
   "source": [
    "def plusOne(digits):\n",
    "    for i in range(-1, -len(digits)-1, -1):\n",
    "        if digits[i] < 9:\n",
    "            digits[i] += 1\n",
    "            break\n",
    "        else:\n",
    "            digits[i] = 0\n",
    "    else:\n",
    "        return [1, *digits]\n",
    "    return digits\n",
    "\n",
    "plusOne([9, 9])"
   ]
  },
  {
   "cell_type": "code",
   "execution_count": 2,
   "id": "e6bd2803-6c98-4a77-8922-981f05ea0f46",
   "metadata": {},
   "outputs": [
    {
     "name": "stdout",
     "output_type": "stream",
     "text": [
      "[1, 3, 12, 0, 0]\n",
      "[2, 1]\n"
     ]
    }
   ],
   "source": [
    "def moveZeroes(nums):\n",
    "    curr = 0\n",
    "    zero_found = False\n",
    "    for i in range(len(nums)):\n",
    "        if not zero_found and nums[i] == 0:\n",
    "            zero_found = True\n",
    "            curr = i\n",
    "            continue\n",
    "        if not zero_found or nums[i] == 0:\n",
    "            continue\n",
    "        nums[curr], nums[i] = nums[i], nums[curr]\n",
    "        curr += 1\n",
    "\n",
    "l = [0,1,0,3,12]\n",
    "moveZeroes(l)\n",
    "print(l)\n",
    "\n",
    "l = [2,1]\n",
    "moveZeroes(l)\n",
    "print(l)"
   ]
  },
  {
   "cell_type": "code",
   "execution_count": 3,
   "id": "89b02567-2b5a-4410-963f-e4755fbbc8aa",
   "metadata": {},
   "outputs": [
    {
     "name": "stdout",
     "output_type": "stream",
     "text": [
      "[0, 1]\n"
     ]
    }
   ],
   "source": [
    "def twoSum(nums, target):\n",
    "    m = {}\n",
    "    for k, v in enumerate(nums):\n",
    "        if v in m:\n",
    "            return [m[v], k]\n",
    "        m[target-v] = k\n",
    "\n",
    "print(twoSum([2,7,11,15], 9))"
   ]
  },
  {
   "cell_type": "code",
   "execution_count": null,
   "id": "5081cd56-3884-4c11-a7a1-aaa9cad8c84c",
   "metadata": {},
   "outputs": [],
   "source": []
  }
 ],
 "metadata": {
  "kernelspec": {
   "display_name": "Python 3",
   "language": "python",
   "name": "python3"
  },
  "language_info": {
   "codemirror_mode": {
    "name": "ipython",
    "version": 3
   },
   "file_extension": ".py",
   "mimetype": "text/x-python",
   "name": "python",
   "nbconvert_exporter": "python",
   "pygments_lexer": "ipython3",
   "version": "3.8.5"
  }
 },
 "nbformat": 4,
 "nbformat_minor": 5
}
