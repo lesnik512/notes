{
 "cells": [
  {
   "cell_type": "code",
   "execution_count": 1,
   "id": "5cf75e90-bda8-446d-be3e-abd402817e81",
   "metadata": {},
   "outputs": [
    {
     "data": {
      "text/plain": [
       "[1, 0, 0]"
      ]
     },
     "execution_count": 1,
     "metadata": {},
     "output_type": "execute_result"
    }
   ],
   "source": [
    "def plusOne(digits):\n",
    "    for i in range(-1, -len(digits)-1, -1):\n",
    "        if digits[i] < 9:\n",
    "            digits[i] += 1\n",
    "            break\n",
    "        else:\n",
    "            digits[i] = 0\n",
    "    else:\n",
    "        return [1, *digits]\n",
    "    return digits\n",
    "\n",
    "plusOne([9, 9])"
   ]
  },
  {
   "cell_type": "code",
   "execution_count": 2,
   "id": "e6bd2803-6c98-4a77-8922-981f05ea0f46",
   "metadata": {},
   "outputs": [
    {
     "name": "stdout",
     "output_type": "stream",
     "text": [
      "[1, 3, 12, 0, 0]\n",
      "[2, 1]\n"
     ]
    }
   ],
   "source": [
    "def moveZeroes(nums):\n",
    "    curr = 0\n",
    "    zero_found = False\n",
    "    for i in range(len(nums)):\n",
    "        if not zero_found and nums[i] == 0:\n",
    "            zero_found = True\n",
    "            curr = i\n",
    "            continue\n",
    "        if not zero_found or nums[i] == 0:\n",
    "            continue\n",
    "        nums[curr], nums[i] = nums[i], nums[curr]\n",
    "        curr += 1\n",
    "\n",
    "l = [0,1,0,3,12]\n",
    "moveZeroes(l)\n",
    "print(l)\n",
    "\n",
    "l = [2,1]\n",
    "moveZeroes(l)\n",
    "print(l)"
   ]
  },
  {
   "cell_type": "code",
   "execution_count": 3,
   "id": "89b02567-2b5a-4410-963f-e4755fbbc8aa",
   "metadata": {},
   "outputs": [
    {
     "name": "stdout",
     "output_type": "stream",
     "text": [
      "[0, 1]\n"
     ]
    }
   ],
   "source": [
    "def twoSum(nums, target):\n",
    "    m = {}\n",
    "    for k, v in enumerate(nums):\n",
    "        if v in m:\n",
    "            return [m[v], k]\n",
    "        m[target-v] = k\n",
    "\n",
    "print(twoSum([2,7,11,15], 9))"
   ]
  },
  {
   "cell_type": "code",
   "execution_count": 11,
   "id": "5081cd56-3884-4c11-a7a1-aaa9cad8c84c",
   "metadata": {},
   "outputs": [
    {
     "data": {
      "text/plain": [
       "True"
      ]
     },
     "execution_count": 11,
     "metadata": {},
     "output_type": "execute_result"
    }
   ],
   "source": [
    "from collections import defaultdict\n",
    "\n",
    "def isValidSudoku(board):\n",
    "    cols = defaultdict(set)\n",
    "    boxes = defaultdict(set)\n",
    "    for i, x in enumerate(board):\n",
    "        row = set()\n",
    "        for j, y in enumerate(x):\n",
    "            if y == \".\":\n",
    "                continue\n",
    "            box_key = f\"{i // 3}{j // 3}\"\n",
    "            if any((y in cols[j], y in row, y in boxes[box_key])):\n",
    "                return False\n",
    "            cols[j].add(y)\n",
    "            row.add(y)\n",
    "            boxes[box_key].add(y)\n",
    "    return True\n",
    "            \n",
    "\n",
    "board = [\n",
    "    [\"5\",\"3\",\".\",\".\",\"7\",\".\",\".\",\".\",\".\"],\n",
    "    [\"6\",\".\",\".\",\"1\",\"9\",\"5\",\".\",\".\",\".\"],\n",
    "    [\".\",\"9\",\"8\",\".\",\".\",\".\",\".\",\"6\",\".\"],\n",
    "    [\"8\",\".\",\".\",\".\",\"6\",\".\",\".\",\".\",\"3\"],\n",
    "    [\"4\",\".\",\".\",\"8\",\".\",\"3\",\".\",\".\",\"1\"],\n",
    "    [\"7\",\".\",\".\",\".\",\"2\",\".\",\".\",\".\",\"6\"],\n",
    "    [\".\",\"6\",\".\",\".\",\".\",\".\",\"2\",\"8\",\".\"],\n",
    "    [\".\",\".\",\".\",\"4\",\"1\",\"9\",\".\",\".\",\"5\"],\n",
    "    [\".\",\".\",\".\",\".\",\"8\",\".\",\".\",\"7\",\"9\"]\n",
    "]\n",
    "isValidSudoku(board)"
   ]
  },
  {
   "cell_type": "code",
   "execution_count": null,
   "id": "bc34971c-272c-44e3-a12d-20578aa2cf2e",
   "metadata": {},
   "outputs": [],
   "source": [
    "def rotate(matrix):\n",
    "    pass\n",
    "\n",
    "rotate([[1,2],[3,4]])"
   ]
  },
  {
   "cell_type": "markdown",
   "id": "8ed5ef98-9559-4feb-bdf3-d9b2431605e9",
   "metadata": {},
   "source": [
    "## Strings"
   ]
  },
  {
   "cell_type": "code",
   "execution_count": 5,
   "id": "038ea13f-7114-4df2-89b7-ee085849c4e0",
   "metadata": {},
   "outputs": [
    {
     "data": {
      "text/plain": [
       "['h', 'a', 'n', 'n', 'a', 'H']"
      ]
     },
     "execution_count": 5,
     "metadata": {},
     "output_type": "execute_result"
    }
   ],
   "source": [
    "def reverseString(s):\n",
    "    for i in (range(len(s)//2)):\n",
    "        j = len(s)-i-1\n",
    "        s[i], s[j] = s[j], s[i]\n",
    "\n",
    "l = [\"H\",\"a\",\"n\",\"n\",\"a\",\"h\"]\n",
    "reverseString(l)\n",
    "l"
   ]
  },
  {
   "cell_type": "code",
   "execution_count": 16,
   "id": "8ea661f9-7247-4e44-846f-a171e511dd68",
   "metadata": {},
   "outputs": [
    {
     "data": {
      "text/plain": [
       "-54321"
      ]
     },
     "execution_count": 16,
     "metadata": {},
     "output_type": "execute_result"
    }
   ],
   "source": [
    "def reverse(x):\n",
    "    k = 1 if x >=0 else -1\n",
    "    x = abs(x)\n",
    "    y = 0\n",
    "    while x >= 10:\n",
    "        y = y * 10 + x % 10\n",
    "        x //= 10\n",
    "    y = k * (y * 10 + x)\n",
    "    if y < (-2) ** 31 or y > (2 ** 31 - 1):\n",
    "        return 0\n",
    "    return y\n",
    "reverse(-12345)"
   ]
  },
  {
   "cell_type": "code",
   "execution_count": 25,
   "id": "b1db9743-4dc7-4ab6-a3f7-6becd16a547e",
   "metadata": {},
   "outputs": [
    {
     "data": {
      "text/plain": [
       "True"
      ]
     },
     "execution_count": 25,
     "metadata": {},
     "output_type": "execute_result"
    }
   ],
   "source": [
    "from collections import Counter\n",
    "def isAnagram(s, t):\n",
    "    return sorted(s) == sorted(t)\n",
    "\n",
    "isAnagram(\"anagram\", \"nagaram\")"
   ]
  },
  {
   "cell_type": "code",
   "execution_count": 1,
   "id": "6920e0e5-5c05-4fc8-a5e3-b080d6970045",
   "metadata": {},
   "outputs": [],
   "source": [
    "def firstUniqChar(s):\n",
    "    m = set()\n",
    "    r = -1\n",
    "    for i in range(len(s)-1, -1, 0):\n",
    "        if s[i] not in m:\n",
    "firstUniqChar(\"leetcode\")"
   ]
  },
  {
   "cell_type": "code",
   "execution_count": 28,
   "id": "612416a7-1c72-489e-b4fa-9755416a5e36",
   "metadata": {},
   "outputs": [
    {
     "data": {
      "text/plain": [
       "True"
      ]
     },
     "execution_count": 28,
     "metadata": {},
     "output_type": "execute_result"
    }
   ],
   "source": [
    "def isPalindrome(s):\n",
    "    l = 0\n",
    "    r = len(s) - 1\n",
    "    while True:\n",
    "        if l >= r:\n",
    "            return True\n",
    "        if not s[l].isalnum():\n",
    "            l += 1\n",
    "            continue\n",
    "        if not s[r].isalnum():\n",
    "            r -= 1\n",
    "            continue\n",
    "        if s[l].lower() != s[r].lower():\n",
    "            return False\n",
    "        l += 1\n",
    "        r -= 1\n",
    "\n",
    "isPalindrome(\"A man, a plan, a canal: Panama\")"
   ]
  },
  {
   "cell_type": "code",
   "execution_count": 7,
   "id": "8c8bef52-735e-41a2-bd67-2db9dfcffd85",
   "metadata": {},
   "outputs": [
    {
     "name": "stdout",
     "output_type": "stream",
     "text": [
      "4\n",
      "2\n"
     ]
    },
    {
     "data": {
      "text/plain": [
       "('flow', 'ab')"
      ]
     },
     "execution_count": 7,
     "metadata": {},
     "output_type": "execute_result"
    }
   ],
   "source": [
    "def longestCommonPrefix(strs):\n",
    "    l = min(len(x) for x in strs)\n",
    "    if l < 1:\n",
    "        return \"\"\n",
    "    for i in range(l):\n",
    "        cur = strs[0][i]\n",
    "        for j in strs:\n",
    "            if cur != j[i]:\n",
    "                return strs[0][0:i]\n",
    "    return strs[0][0:l]\n",
    "\n",
    "longestCommonPrefix([\"flower\",\"flow\"]), longestCommonPrefix([\"ab\"])"
   ]
  }
 ],
 "metadata": {
  "kernelspec": {
   "display_name": "Python 3",
   "language": "python",
   "name": "python3"
  },
  "language_info": {
   "codemirror_mode": {
    "name": "ipython",
    "version": 3
   },
   "file_extension": ".py",
   "mimetype": "text/x-python",
   "name": "python",
   "nbconvert_exporter": "python",
   "pygments_lexer": "ipython3",
   "version": "3.8.5"
  }
 },
 "nbformat": 4,
 "nbformat_minor": 5
}
