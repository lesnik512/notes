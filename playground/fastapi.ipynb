{
 "cells": [
  {
   "cell_type": "markdown",
   "id": "80850911-36c3-4e33-b915-0dcf9f7c4466",
   "metadata": {},
   "source": [
    "## Example of response redundant parsing"
   ]
  },
  {
   "cell_type": "code",
   "execution_count": 2,
   "id": "c8c31848-8171-43b6-8430-2452ce8f7095",
   "metadata": {},
   "outputs": [
    {
     "name": "stdout",
     "output_type": "stream",
     "text": [
      "1\n",
      "1\n",
      "{'name': 'island In The Moon', 'price': 12.99}\n"
     ]
    }
   ],
   "source": [
    "from pydantic import BaseModel, root_validator\n",
    "from fastapi import FastAPI\n",
    "from fastapi.testclient import TestClient\n",
    "import asyncio\n",
    "\n",
    "\n",
    "class Item(BaseModel):\n",
    "    name: str\n",
    "    price: float\n",
    "    \n",
    "    @root_validator()\n",
    "    def validate(cls, values):\n",
    "        print(\"1\")\n",
    "        return values\n",
    "\n",
    "app = FastAPI()\n",
    "\n",
    "@app.get(\"/items/\", response_model=Item)\n",
    "async def read_a():\n",
    "    return Item(name=\"island In The Moon\", price=12.99)\n",
    "\n",
    "def test_client():\n",
    "    with TestClient(app) as client:\n",
    "        response = client.get(\"/items/\")\n",
    "        print(response.json())\n",
    "\n",
    "import nest_asyncio\n",
    "nest_asyncio.apply()\n",
    "test_client()"
   ]
  },
  {
   "cell_type": "code",
   "execution_count": null,
   "id": "b458ebe4-2b6a-4c24-abc2-1cd275117d35",
   "metadata": {},
   "outputs": [],
   "source": []
  }
 ],
 "metadata": {
  "kernelspec": {
   "display_name": "Python 3",
   "language": "python",
   "name": "python3"
  },
  "language_info": {
   "codemirror_mode": {
    "name": "ipython",
    "version": 3
   },
   "file_extension": ".py",
   "mimetype": "text/x-python",
   "name": "python",
   "nbconvert_exporter": "python",
   "pygments_lexer": "ipython3",
   "version": "3.8.5"
  }
 },
 "nbformat": 4,
 "nbformat_minor": 5
}
